{
  "nbformat": 4,
  "nbformat_minor": 0,
  "metadata": {
    "colab": {
      "provenance": []
    },
    "kernelspec": {
      "name": "python3",
      "display_name": "Python 3"
    },
    "language_info": {
      "name": "python"
    }
  },
  "cells": [
    {
      "cell_type": "code",
      "execution_count": null,
      "metadata": {
        "colab": {
          "base_uri": "https://localhost:8080/"
        },
        "id": "eqJ6AtDq4OLD",
        "outputId": "ab661b4a-18a0-423e-923c-d7791b3847f1"
      },
      "outputs": [
        {
          "output_type": "stream",
          "name": "stdout",
          "text": [
            "Mounted at /content/drive\n"
          ]
        }
      ],
      "source": [
        "from google.colab import drive\n",
        "drive.mount('/content/drive')"
      ]
    },
    {
      "cell_type": "code",
      "source": [
        "cd/content/drive/My Drive/Externship_7thsem"
      ],
      "metadata": {
        "colab": {
          "base_uri": "https://localhost:8080/"
        },
        "id": "XEekjTgC4Qfr",
        "outputId": "daafdf56-ca66-4bd7-b9ce-7135d3b9a399"
      },
      "execution_count": null,
      "outputs": [
        {
          "output_type": "stream",
          "name": "stdout",
          "text": [
            "/content/drive/My Drive/Externship_7thsem\n"
          ]
        }
      ]
    },
    {
      "cell_type": "code",
      "source": [
        "import pandas as pd\n",
        "import os\n",
        "import shutil"
      ],
      "metadata": {
        "id": "AD9y89hu4szv"
      },
      "execution_count": 3,
      "outputs": []
    },
    {
      "cell_type": "code",
      "source": [
        "source_folders = {\n",
        "    'January 2024': '/content/drive/MyDrive/Externship_7thsem/Jan 2024',\n",
        "    'February 2024': '/content/drive/MyDrive/Externship_7thsem/Feb 2024',\n",
        "    'March 2024': '/content/drive/MyDrive/Externship_7thsem/March 2024',\n",
        "    'April 2024':'/content/drive/MyDrive/Externship_7thsem/April 2024',\n",
        "    'May 2024':'/content/drive/MyDrive/Externship_7thsem/May 2024',\n",
        "    'June 2024':'/content/drive/MyDrive/Externship_7thsem/June 2024',\n",
        "    'July 2024':'/content/drive/MyDrive/Externship_7thsem/July 2024',\n",
        "    'August 2024':'/content/drive/MyDrive/Externship_7thsem/Aug 2024',\n",
        "    'September 2024':'/content/drive/MyDrive/Externship_7thsem/September 2024',\n",
        "    'October 2024':'/content/drive/MyDrive/Externship_7thsem/October 2024',\n",
        "    'November 2024':'/content/drive/MyDrive/Externship_7thsem/Nov 2024',\n",
        "    'December 2024':'/content/drive/MyDrive/Externship_7thsem/December 2024'\n",
        "\n",
        "}\n"
      ],
      "metadata": {
        "id": "4cwYlICE57_A"
      },
      "execution_count": 11,
      "outputs": []
    },
    {
      "cell_type": "code",
      "source": [
        "sorted_folder = '/content/drive/MyDrive/SortedFolder'"
      ],
      "metadata": {
        "id": "TnFvcKWc6b4l"
      },
      "execution_count": 12,
      "outputs": []
    },
    {
      "cell_type": "code",
      "source": [
        "if not os.path.exists(sorted_folder):\n",
        "    os.makedirs(sorted_folder)"
      ],
      "metadata": {
        "id": "tZ1iY1Ko6xnt"
      },
      "execution_count": 13,
      "outputs": []
    },
    {
      "cell_type": "code",
      "source": [
        "category_1_folder = os.path.join(sorted_folder, 'Category-1')\n",
        "category_2_folder = os.path.join(sorted_folder, 'Category-2')\n",
        "category_3_folder = os.path.join(sorted_folder, 'Category-3')"
      ],
      "metadata": {
        "id": "UGyv6pfm6zwi"
      },
      "execution_count": 14,
      "outputs": []
    },
    {
      "cell_type": "code",
      "source": [
        "def ensure_folder_exists(folder):\n",
        "    if not os.path.exists(folder):\n",
        "        os.makedirs(folder)"
      ],
      "metadata": {
        "id": "OfHA3RrbCcSM"
      },
      "execution_count": 15,
      "outputs": []
    },
    {
      "cell_type": "code",
      "source": [
        "for folder in [category_1_folder, category_2_folder, category_3_folder]:\n",
        "    ensure_folder_exists(folder)"
      ],
      "metadata": {
        "id": "noYUounp62Wn"
      },
      "execution_count": 16,
      "outputs": []
    },
    {
      "cell_type": "code",
      "source": [
        "def move_excel_files_to_categories_by_month(month, src_folder):\n",
        "\n",
        "\n",
        "    month_folder_1 = os.path.join(category_1_folder, month)\n",
        "    month_folder_2 = os.path.join(category_2_folder, month)\n",
        "    month_folder_3 = os.path.join(category_3_folder, month)\n",
        "\n",
        "    ensure_folder_exists(month_folder_1)\n",
        "    ensure_folder_exists(month_folder_2)\n",
        "    ensure_folder_exists(month_folder_3)\n",
        "\n",
        "\n",
        "    if os.path.exists(src_folder):\n",
        "        files = os.listdir(src_folder)\n",
        "\n",
        "        for file_name in files:\n",
        "            if file_name.endswith('.xlsx'):\n",
        "                file_path = os.path.join(src_folder, file_name)\n",
        "\n",
        "                try:\n",
        "                    first_number = float(file_name.split('.')[0])\n",
        "                except ValueError:\n",
        "                    continue\n",
        "\n",
        "\n",
        "                if 0 < first_number < 2:\n",
        "                    shutil.move(file_path, month_folder_1)\n",
        "                elif 1 < first_number < 3:\n",
        "                    shutil.move(file_path, month_folder_2)\n",
        "                elif 2 < first_number < 4:\n",
        "                    shutil.move(file_path, month_folder_3)\n",
        "    else:\n",
        "        print(f\"No source folder found for {month}\")\n",
        "\n"
      ],
      "metadata": {
        "id": "dxzXUV1Y66CU"
      },
      "execution_count": 17,
      "outputs": []
    },
    {
      "cell_type": "code",
      "source": [
        "for month, folder in source_folders.items():\n",
        "    print(f\"Processing {month} from folder {folder}\")\n",
        "    move_excel_files_to_categories_by_month(month, folder)"
      ],
      "metadata": {
        "id": "4N1vslx370Fb",
        "colab": {
          "base_uri": "https://localhost:8080/"
        },
        "outputId": "294a5427-a63a-4f69-e7d2-3e3cc9fdb790"
      },
      "execution_count": 18,
      "outputs": [
        {
          "output_type": "stream",
          "name": "stdout",
          "text": [
            "Processing January 2024 from folder /content/drive/MyDrive/Externship_7thsem/Jan 2024\n",
            "No source folder found for January 2024\n",
            "Processing February 2024 from folder /content/drive/MyDrive/Externship_7thsem/Feb 2024\n",
            "No source folder found for February 2024\n",
            "Processing March 2024 from folder /content/drive/MyDrive/Externship_7thsem/March 2024\n",
            "No source folder found for March 2024\n",
            "Processing April 2024 from folder /content/drive/MyDrive/Externship_7thsem/April 2024\n",
            "No source folder found for April 2024\n",
            "Processing May 2024 from folder /content/drive/MyDrive/Externship_7thsem/May 2024\n",
            "No source folder found for May 2024\n",
            "Processing June 2024 from folder /content/drive/MyDrive/Externship_7thsem/June 2024\n",
            "No source folder found for June 2024\n",
            "Processing July 2024 from folder /content/drive/MyDrive/Externship_7thsem/July 2024\n",
            "No source folder found for July 2024\n",
            "Processing August 2024 from folder /content/drive/MyDrive/Externship_7thsem/Aug 2024\n",
            "No source folder found for August 2024\n",
            "Processing September 2024 from folder /content/drive/MyDrive/Externship_7thsem/September 2024\n",
            "No source folder found for September 2024\n",
            "Processing October 2024 from folder /content/drive/MyDrive/Externship_7thsem/October 2024\n",
            "No source folder found for October 2024\n",
            "Processing November 2024 from folder /content/drive/MyDrive/Externship_7thsem/Nov 2024\n",
            "No source folder found for November 2024\n",
            "Processing December 2024 from folder /content/drive/MyDrive/Externship_7thsem/December 2024\n",
            "No source folder found for December 2024\n"
          ]
        }
      ]
    },
    {
      "cell_type": "code",
      "source": [
        "dataframes_dict = {}\n",
        "\n",
        "\n",
        "category_folders = [category_1_folder, category_2_folder, category_3_folder]\n",
        "\n",
        "\n",
        "for category_folder in category_folders:\n",
        "    for month_folder in os.listdir(category_folder):\n",
        "        full_month_folder_path = os.path.join(category_folder, month_folder)\n",
        "        if os.path.isdir(full_month_folder_path):\n",
        "            for file_name in os.listdir(full_month_folder_path):\n",
        "                if file_name.endswith('.xlsx'):\n",
        "                    file_path = os.path.join(full_month_folder_path, file_name)\n",
        "\n",
        "\n",
        "                    df = pd.read_excel(file_path)\n",
        "\n",
        "\n",
        "                    dataframes_dict[file_name] = df\n",
        "\n",
        "print(\"All Excel files have been read into DataFrames called SortedFolder!\")"
      ],
      "metadata": {
        "colab": {
          "base_uri": "https://localhost:8080/"
        },
        "id": "lAHxrQoxCsvZ",
        "outputId": "be9bf0e8-8119-42f5-d70d-38e5eed8373d"
      },
      "execution_count": 19,
      "outputs": [
        {
          "output_type": "stream",
          "name": "stdout",
          "text": [
            "All Excel files have been read into DataFrames called SortedFolder!\n"
          ]
        }
      ]
    }
  ]
}